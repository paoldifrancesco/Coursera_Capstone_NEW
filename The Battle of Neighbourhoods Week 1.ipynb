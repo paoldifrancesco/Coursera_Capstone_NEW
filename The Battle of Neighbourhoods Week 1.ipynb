{
    "cells": [
        {
            "cell_type": "markdown",
            "metadata": {
                "collapsed": true
            },
            "source": "# FINAL CAPSTONE PROJECT/ The battle of the neighborhoods"
        },
        {
            "cell_type": "markdown",
            "metadata": {},
            "source": "## Addressing a business problem using a combination of structured problem solving, data analysis & machine learning.\n"
        },
        {
            "cell_type": "markdown",
            "metadata": {},
            "source": "## CONTENTS\n###  - Introduction\n### - Data collection and cleaning\n### - Methodology\n### - Results section\n###  - Discussion\n### - Conclusion\n"
        },
        {
            "cell_type": "markdown",
            "metadata": {},
            "source": "## 1 Introduction/ Business Problem"
        },
        {
            "cell_type": "markdown",
            "metadata": {},
            "source": "### Paris is one of the most important cities in the world which attracts every year millions of tourists from all over the world. It is as well very famous for its excellent cuisine both national and international. One of the main actors in in international cousine is as well Italy which has exported all over the world its food culture starting from traditional Italian Pizza and spaghetti to many different regional food always appreciated.\n### Is there still, room for Italian food in Paris? \n### We think yes in general because quality is always appreciated, but even more for some types of foods that, being very popular in Italy, even for strangers visiting the country, still have a limited presence (compared to others) in some countries like France and specifically in Paris. \n### We are looking in this case to home-made Ice-cream. Wea re looking for several high-traffic locations not necessary in the very centre of the town. So we focus on that borough during our analysis. We define potential neighbourhood based on the number of potential competitors for ice-cream, pastries and in general frozen sweet food which are operating right in each neighbourhood. Paris has full potential but also it is a very challenging district to open a business because of high competition. New shops should be open where we can ensure that we have enough customers, where we are not so close to direct competitors or where, if we are close to others, we are sure to provide the best quality in order to attract as many customers as possible.\n### The scope of the project is to advise on the business strategies and execution roadmap on setting up an Italian Ice-cream shop in Paris. The initial business problem question is \u201cwhere is then better location in Paris to open one (or more) Italian home-made Ice-cream shop?\u201d.\n### The City of Paris is divided for administrative reasons into 20 main boroughs (arrondissments) for administrative purposes. Each of these administrative districts (or arrondissements) are officially divided into 4 quartiers.\n### You will find in this report a map showing Paris arrondissements and a map presenting Paris neighbourhoods. Within each of its boroughs, the neighbourhoods are providing the typical flavour of Paris with their own culture, locations and charme. The twenty arrondissements of Paris all have their own characteristics in terms of buildings, places to go out, restaurants, and in general aspects that can influence the success of an initiative to open a new activity.\n"
        },
        {
            "cell_type": "markdown",
            "metadata": {},
            "source": "## 2 Data acquisition and cleaning"
        },
        {
            "cell_type": "markdown",
            "metadata": {},
            "source": "### Paris has a total of 20 boroughs and 80 neighbourhoods. In order to segment the neighbourhoods and explore them, we will use sets of data available at data.govr.fr an open platform containing numerous sets of public French data.\n### we will use 2 data sets:\n### The first consists of the list of the 20 boroughs with their respective geographical coordinates:\n\n### https://www.data.gouv.fr/fr/datasets/r/0d3553c6-45c0-4b16-82be-5ef314437d3e\n\n### The second dataset consists of the 80 neighbourhoods with their respective geographical coordinates:\n\n### https://www.data.gouv.fr/fr/datasets/r/a3b31fdc-85dc-4aeb-94c6-a8b57aebef77\n\n### Merging these 2 datasets after having cleaned we will have a final data frame with the 20 Boroughs and the 4 neighbourhoods for each of them for a total of 80 with related geographicalcoordinates.\n### We will then use Folium to represent all these locations on a Paris Map and the Foursquare API to provision venues information for each neighbourhood.\n\n### With this additional information we will explore neighbourhood and we will cluster them in search of the best ones where to open our chain of home-made Ice cream.\n\n"
        },
        {
            "cell_type": "code",
            "execution_count": null,
            "metadata": {},
            "outputs": [],
            "source": ""
        }
    ],
    "metadata": {
        "kernelspec": {
            "display_name": "Python 3.8",
            "language": "python",
            "name": "python3"
        },
        "language_info": {
            "codemirror_mode": {
                "name": "ipython",
                "version": 3
            },
            "file_extension": ".py",
            "mimetype": "text/x-python",
            "name": "python",
            "nbconvert_exporter": "python",
            "pygments_lexer": "ipython3",
            "version": "3.8.10"
        }
    },
    "nbformat": 4,
    "nbformat_minor": 1
}